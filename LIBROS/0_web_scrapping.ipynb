{
 "cells": [
  {
   "cell_type": "markdown",
   "metadata": {},
   "source": [
    "### Paquetes"
   ]
  },
  {
   "cell_type": "code",
   "execution_count": 1,
   "metadata": {},
   "outputs": [],
   "source": [
    "import requests\n",
    "from bs4 import BeautifulSoup\n",
    "import re\n",
    "import pandas as pd\n",
    "import numpy as np\n",
    "from tqdm import tqdm as tq\n",
    "import json"
   ]
  },
  {
   "cell_type": "markdown",
   "metadata": {},
   "source": [
    "### Funciones"
   ]
  },
  {
   "cell_type": "code",
   "execution_count": 2,
   "metadata": {},
   "outputs": [],
   "source": [
    "######################################################################################## #EXTRAER LINKS DE LA PÁGINA DE WEB DE LOS DOCUMENTOS\n",
    "def extraer_links(url):\n",
    "    response = requests.get(url)\n",
    "    if response.status_code == 200:\n",
    "        soup = BeautifulSoup(response.text, 'html.parser')\n",
    "        links = soup.find_all('a')\n",
    "        for link in links:\n",
    "            href = link.get('href')\n",
    "            if href: \n",
    "                None\n",
    "    else:\n",
    "        print(f'Error al realizar la petición HTTP: {response.status_code}')\n",
    "    return links\n",
    "\n",
    "######################################################################################## #EXTRAER LOS LINKS DE LOS DOCUMENTOS (PDF)\n",
    "def docs(links, pattern, base):\n",
    "    docus = []\n",
    "    for link in links:\n",
    "        href = link.get('href')\n",
    "        if href and pattern.match(href):  \n",
    "            docus.append(base+href)\n",
    "    docus = list(set(docus))\n",
    "    return docus\n",
    "\n",
    "######################################################################################## EXTRAERR TABLA DE LOS COUMENTOS (METADATOS)\n",
    "def tabla(url):\n",
    "\n",
    "    # Realiza la petición HTTP a la página\n",
    "    response = requests.get(url+\"?show=full\")\n",
    "\n",
    "    # Verifica que la petición fue exitosa\n",
    "    if response.status_code == 200:\n",
    "        # Usa pandas para leer las tablas de la página\n",
    "        tablas = pd.read_html(response.text)\n",
    "        tabla = tablas[0]\n",
    "        tabla.index = tabla[0]; tabla = tabla[[1]]; tabla = tabla.T\n",
    "\n",
    "\n",
    "        columnas_deseadas = [\"dc.creator\", \"dc.date.issued\", \"dc.identifier.uri\", \"dc.description.abstract\", \"dc.language.iso\", \"dc.subject\", \"dc.title\", \"dc.description.ciudad\", \"dc.type.spa\", \"dc.description.programa\"]\n",
    "        columnas_existentes = [col for col in columnas_deseadas if col in tabla.columns]\n",
    "        tabla_filtrada = tabla[columnas_existentes]\n",
    "\n",
    "        nombres_columnas = tabla_filtrada.columns.tolist()\n",
    "        nuevos_nombres_columnas, nombres_vistos = [], {}\n",
    "\n",
    "        for nombre in nombres_columnas:\n",
    "            if nombre in nombres_vistos:\n",
    "                nombres_vistos[nombre] += 1\n",
    "                nombre_modificado = f\"{nombre}_{nombres_vistos[nombre]}\"\n",
    "            else:\n",
    "                nombres_vistos[nombre] = 0\n",
    "                nombre_modificado = nombre\n",
    "            nuevos_nombres_columnas.append(nombre_modificado)\n",
    "\n",
    "        tabla_filtrada.columns = nuevos_nombres_columnas\n",
    "\n",
    "    return tabla_filtrada\n",
    "\n",
    "\n",
    "######################################################################################## DESCARGAR PDFS\n",
    "def descargar_pdf(url, destino):\n",
    "    try:\n",
    "        # Hace una petición GET al URL del PDF\n",
    "        respuesta = requests.get(url)\n",
    "        \n",
    "        # Verifica que la petición fue exitosa (código de estado 200)\n",
    "        respuesta.raise_for_status()\n",
    "        \n",
    "        # Abre el archivo en el modo de escritura binaria para guardar el PDF\n",
    "        with open(destino, 'wb') as archivo:\n",
    "            archivo.write(respuesta.content)\n",
    "            \n",
    "        print(f\"PDF guardado con éxito en: {destino}\")\n",
    "    except requests.exceptions.RequestException as e:\n",
    "        print(f\"Error al descargar el PDF: {e}\")\n"
   ]
  },
  {
   "cell_type": "markdown",
   "metadata": {},
   "source": [
    "### Configuración base"
   ]
  },
  {
   "cell_type": "markdown",
   "metadata": {},
   "source": [
    "#### Paramétros"
   ]
  },
  {
   "cell_type": "code",
   "execution_count": 3,
   "metadata": {},
   "outputs": [],
   "source": [
    "# Reemplaza 'url_aqui' con la URL de la página de la que deseas extraer los enlaces\n",
    "pattern = re.compile(r'^/handle/20\\.500\\.11761/\\d+$')\n",
    "base = \"http://repository.humboldt.org.co\"\n",
    "url = 'http://repository.humboldt.org.co/handle/20.500.11761/31464/browse?rpp=20&sort_by=2&type=dateissued&offset=20&etal=-1&order=ASCC'\n",
    "links = extraer_links(url)\n",
    "documentos = docs(links, pattern, base)\n"
   ]
  },
  {
   "cell_type": "markdown",
   "metadata": {},
   "source": [
    "#### Links generales: descargar los links de todas las páginas enumeradas de los documentos de investigación"
   ]
  },
  {
   "cell_type": "code",
   "execution_count": 17,
   "metadata": {},
   "outputs": [
    {
     "name": "stderr",
     "output_type": "stream",
     "text": [
      "  0%|          | 0/16 [00:00<?, ?it/s]"
     ]
    },
    {
     "name": "stderr",
     "output_type": "stream",
     "text": [
      "100%|██████████| 16/16 [00:15<00:00,  1.04it/s]\n"
     ]
    }
   ],
   "source": [
    "investigacion = []\n",
    "\n",
    "for i in tq(range(20, 340, 20)):\n",
    "    # url = f'http://repository.humboldt.org.co/handle/20.500.11761/31464/browse?rpp=20&sort_by=2&type=dateissued&offset={i}&etal=-1&order=ASCC'\n",
    "    url = f'http://repository.humboldt.org.co/handle/20.500.11761/31468/recent-submissions?offset={i}'\n",
    "    links = extraer_links(url)\n",
    "    documentos = docs(links, pattern, base)\n",
    "    investigacion = investigacion + documentos\n",
    "\n",
    "inv = pd.DataFrame(data = investigacion, columns = [\"link\"])"
   ]
  },
  {
   "cell_type": "markdown",
   "metadata": {},
   "source": [
    "#### Asignar ID a cada documento"
   ]
  },
  {
   "cell_type": "code",
   "execution_count": 5,
   "metadata": {},
   "outputs": [],
   "source": [
    "def extraer_numero(link):\n",
    "    match = re.search(r'(\\d+)$', link)\n",
    "    if match:\n",
    "        return match.group(1)\n",
    "    return None  \n",
    "\n",
    "inv['id'] = inv['link'].apply(extraer_numero)"
   ]
  },
  {
   "cell_type": "markdown",
   "metadata": {},
   "source": [
    "#### Extraer link pdf de cada documento"
   ]
  },
  {
   "cell_type": "code",
   "execution_count": 6,
   "metadata": {},
   "outputs": [
    {
     "name": "stderr",
     "output_type": "stream",
     "text": [
      "  0%|          | 1/285 [00:02<09:39,  2.04s/it]"
     ]
    },
    {
     "name": "stderr",
     "output_type": "stream",
     "text": [
      "100%|██████████| 285/285 [05:13<00:00,  1.10s/it]\n"
     ]
    }
   ],
   "source": [
    "# documento = extraer_links(\"http://repository.humboldt.org.co/handle/20.500.11761/32572\")\n",
    "patronpdf = re.compile(r'/bitstream/handle/20\\.500\\.11761/\\d+/.+?\\.pdf')\n",
    "# pdf = docs(documento, patronpdf, base)\n",
    "\n",
    "pdfs = []\n",
    "\n",
    "for i in tq(inv[\"link\"]):\n",
    "    try:\n",
    "        documento = extraer_links(i)\n",
    "        pdf = docs(documento, patronpdf, base)\n",
    "        pdf = pdf[0]\n",
    "    except:\n",
    "        pdf = np.nan\n",
    "\n",
    "    pdfs.append(pdf)\n",
    "\n",
    "\n",
    "inv[\"link_pdf\"] = pdfs\n"
   ]
  },
  {
   "cell_type": "markdown",
   "metadata": {},
   "source": [
    "#### Organizar la base"
   ]
  },
  {
   "cell_type": "code",
   "execution_count": 9,
   "metadata": {},
   "outputs": [
    {
     "name": "stderr",
     "output_type": "stream",
     "text": [
      "<ipython-input-9-f51040d83917>:2: UserWarning: Pandas requires version '1.4.3' or newer of 'xlsxwriter' (version '1.3.7' currently installed).\n",
      "  inv.to_excel(\"0_LINKS.xlsx\", index = False)\n"
     ]
    }
   ],
   "source": [
    "inv = inv[[\"id\", \"link\", \"link_pdf\"]]\n",
    "inv.to_excel(\"0_LINKS.xlsx\", index = False)"
   ]
  },
  {
   "cell_type": "markdown",
   "metadata": {},
   "source": [
    "#### Metadatos"
   ]
  },
  {
   "cell_type": "code",
   "execution_count": 15,
   "metadata": {},
   "outputs": [
    {
     "data": {
      "text/html": [
       "<div>\n",
       "<style scoped>\n",
       "    .dataframe tbody tr th:only-of-type {\n",
       "        vertical-align: middle;\n",
       "    }\n",
       "\n",
       "    .dataframe tbody tr th {\n",
       "        vertical-align: top;\n",
       "    }\n",
       "\n",
       "    .dataframe thead th {\n",
       "        text-align: right;\n",
       "    }\n",
       "</style>\n",
       "<table border=\"1\" class=\"dataframe\">\n",
       "  <thead>\n",
       "    <tr style=\"text-align: right;\">\n",
       "      <th></th>\n",
       "      <th>id</th>\n",
       "      <th>link</th>\n",
       "      <th>link_pdf</th>\n",
       "    </tr>\n",
       "  </thead>\n",
       "  <tbody>\n",
       "    <tr>\n",
       "      <th>0</th>\n",
       "      <td>35937</td>\n",
       "      <td>http://repository.humboldt.org.co/handle/20.50...</td>\n",
       "      <td>http://repository.humboldt.org.co/bitstream/ha...</td>\n",
       "    </tr>\n",
       "    <tr>\n",
       "      <th>1</th>\n",
       "      <td>35976</td>\n",
       "      <td>http://repository.humboldt.org.co/handle/20.50...</td>\n",
       "      <td>http://repository.humboldt.org.co/bitstream/ha...</td>\n",
       "    </tr>\n",
       "    <tr>\n",
       "      <th>2</th>\n",
       "      <td>35945</td>\n",
       "      <td>http://repository.humboldt.org.co/handle/20.50...</td>\n",
       "      <td>http://repository.humboldt.org.co/bitstream/ha...</td>\n",
       "    </tr>\n",
       "    <tr>\n",
       "      <th>3</th>\n",
       "      <td>35956</td>\n",
       "      <td>http://repository.humboldt.org.co/handle/20.50...</td>\n",
       "      <td>http://repository.humboldt.org.co/bitstream/ha...</td>\n",
       "    </tr>\n",
       "    <tr>\n",
       "      <th>4</th>\n",
       "      <td>35960</td>\n",
       "      <td>http://repository.humboldt.org.co/handle/20.50...</td>\n",
       "      <td>http://repository.humboldt.org.co/bitstream/ha...</td>\n",
       "    </tr>\n",
       "    <tr>\n",
       "      <th>...</th>\n",
       "      <td>...</td>\n",
       "      <td>...</td>\n",
       "      <td>...</td>\n",
       "    </tr>\n",
       "    <tr>\n",
       "      <th>280</th>\n",
       "      <td>31358</td>\n",
       "      <td>http://repository.humboldt.org.co/handle/20.50...</td>\n",
       "      <td>http://repository.humboldt.org.co/bitstream/ha...</td>\n",
       "    </tr>\n",
       "    <tr>\n",
       "      <th>281</th>\n",
       "      <td>31360</td>\n",
       "      <td>http://repository.humboldt.org.co/handle/20.50...</td>\n",
       "      <td>http://repository.humboldt.org.co/bitstream/ha...</td>\n",
       "    </tr>\n",
       "    <tr>\n",
       "      <th>282</th>\n",
       "      <td>31361</td>\n",
       "      <td>http://repository.humboldt.org.co/handle/20.50...</td>\n",
       "      <td>http://repository.humboldt.org.co/bitstream/ha...</td>\n",
       "    </tr>\n",
       "    <tr>\n",
       "      <th>283</th>\n",
       "      <td>31365</td>\n",
       "      <td>http://repository.humboldt.org.co/handle/20.50...</td>\n",
       "      <td>http://repository.humboldt.org.co/bitstream/ha...</td>\n",
       "    </tr>\n",
       "    <tr>\n",
       "      <th>284</th>\n",
       "      <td>31359</td>\n",
       "      <td>http://repository.humboldt.org.co/handle/20.50...</td>\n",
       "      <td>http://repository.humboldt.org.co/bitstream/ha...</td>\n",
       "    </tr>\n",
       "  </tbody>\n",
       "</table>\n",
       "<p>285 rows × 3 columns</p>\n",
       "</div>"
      ],
      "text/plain": [
       "        id                                               link  \\\n",
       "0    35937  http://repository.humboldt.org.co/handle/20.50...   \n",
       "1    35976  http://repository.humboldt.org.co/handle/20.50...   \n",
       "2    35945  http://repository.humboldt.org.co/handle/20.50...   \n",
       "3    35956  http://repository.humboldt.org.co/handle/20.50...   \n",
       "4    35960  http://repository.humboldt.org.co/handle/20.50...   \n",
       "..     ...                                                ...   \n",
       "280  31358  http://repository.humboldt.org.co/handle/20.50...   \n",
       "281  31360  http://repository.humboldt.org.co/handle/20.50...   \n",
       "282  31361  http://repository.humboldt.org.co/handle/20.50...   \n",
       "283  31365  http://repository.humboldt.org.co/handle/20.50...   \n",
       "284  31359  http://repository.humboldt.org.co/handle/20.50...   \n",
       "\n",
       "                                              link_pdf  \n",
       "0    http://repository.humboldt.org.co/bitstream/ha...  \n",
       "1    http://repository.humboldt.org.co/bitstream/ha...  \n",
       "2    http://repository.humboldt.org.co/bitstream/ha...  \n",
       "3    http://repository.humboldt.org.co/bitstream/ha...  \n",
       "4    http://repository.humboldt.org.co/bitstream/ha...  \n",
       "..                                                 ...  \n",
       "280  http://repository.humboldt.org.co/bitstream/ha...  \n",
       "281  http://repository.humboldt.org.co/bitstream/ha...  \n",
       "282  http://repository.humboldt.org.co/bitstream/ha...  \n",
       "283  http://repository.humboldt.org.co/bitstream/ha...  \n",
       "284  http://repository.humboldt.org.co/bitstream/ha...  \n",
       "\n",
       "[285 rows x 3 columns]"
      ]
     },
     "execution_count": 15,
     "metadata": {},
     "output_type": "execute_result"
    }
   ],
   "source": [
    "inv"
   ]
  },
  {
   "cell_type": "code",
   "execution_count": 10,
   "metadata": {},
   "outputs": [],
   "source": [
    "inv = pd.read_excel(\"0_LINKS.xlsx\")"
   ]
  },
  {
   "cell_type": "code",
   "execution_count": 11,
   "metadata": {},
   "outputs": [],
   "source": [
    "def tabla(url):\n",
    "\n",
    "    # Realiza la petición HTTP a la página\n",
    "    response = requests.get(url+\"?show=full\")\n",
    "\n",
    "    # Verifica que la petición fue exitosa\n",
    "    if response.status_code == 200:\n",
    "        # Usa pandas para leer las tablas de la página\n",
    "        tablas = pd.read_html(response.text)\n",
    "        tabla = tablas[0]\n",
    "        tabla.index = tabla[0]; tabla = tabla[[1]]; tabla = tabla.T\n",
    "\n",
    "\n",
    "        columnas_deseadas = [\"dc.creator\", \"dc.date.issued\", \"dc.identifier.uri\", \"dc.description.abstract\", \"dc.language.iso\", \"dc.subject\", \"dc.title\", \"dc.description.ciudad\", \"dc.type.spa\", \"dc.description.programa\"]\n",
    "        columnas_existentes = [col for col in columnas_deseadas if col in tabla.columns]\n",
    "        tabla_filtrada = tabla[columnas_existentes]\n",
    "\n",
    "        nombres_columnas = tabla_filtrada.columns.tolist()\n",
    "        nuevos_nombres_columnas, nombres_vistos = [], {}\n",
    "\n",
    "        for nombre in nombres_columnas:\n",
    "            if nombre in nombres_vistos:\n",
    "                nombres_vistos[nombre] += 1\n",
    "                nombre_modificado = f\"{nombre}_{nombres_vistos[nombre]}\"\n",
    "            else:\n",
    "                nombres_vistos[nombre] = 0\n",
    "                nombre_modificado = nombre\n",
    "            nuevos_nombres_columnas.append(nombre_modificado)\n",
    "\n",
    "        tabla_filtrada.columns = nuevos_nombres_columnas\n",
    "\n",
    "    return tabla_filtrada"
   ]
  },
  {
   "cell_type": "code",
   "execution_count": 12,
   "metadata": {},
   "outputs": [
    {
     "name": "stderr",
     "output_type": "stream",
     "text": [
      "285it [05:18,  1.12s/it]\n"
     ]
    }
   ],
   "source": [
    "metadata = pd.DataFrame()\n",
    "\n",
    "for id, link in tq(zip(inv.id[:], inv.link[:])):\n",
    "    try: \n",
    "        tablaid = tabla(link)\n",
    "        tablaid[\"id\"] = id\n",
    "\n",
    "        metadata = pd.concat([metadata, tablaid], axis = 0)\n",
    "\n",
    "    except:\n",
    "        None\n",
    "\n",
    "metadata = metadata.sort_values(by = [\"dc.date.issued\"])\n"
   ]
  },
  {
   "cell_type": "markdown",
   "metadata": {},
   "source": [
    "Categoría"
   ]
  },
  {
   "cell_type": "code",
   "execution_count": 13,
   "metadata": {},
   "outputs": [],
   "source": [
    "def extraer_html(url):\n",
    "    respuesta = requests.get(url)\n",
    "    if respuesta.status_code == 200:\n",
    "        return respuesta.text\n",
    "    else:\n",
    "        return \"Error en la solicitud, código de estado: \" + str(respuesta.status_code)\n"
   ]
  },
  {
   "cell_type": "code",
   "execution_count": 14,
   "metadata": {},
   "outputs": [
    {
     "name": "stderr",
     "output_type": "stream",
     "text": [
      "100%|██████████| 285/285 [07:06<00:00,  1.50s/it]\n"
     ]
    }
   ],
   "source": [
    "category = []\n",
    "for i in tq(metadata[\"dc.identifier.uri\"]):\n",
    "    html_string = str(extraer_html(i))\n",
    "    categoria = re.search(r\"window\\.GTM\\.collection='(.*?)';\", html_string).group(1)\n",
    "    category.append(categoria)\n"
   ]
  },
  {
   "cell_type": "code",
   "execution_count": 19,
   "metadata": {},
   "outputs": [
    {
     "name": "stderr",
     "output_type": "stream",
     "text": [
      "<ipython-input-19-05dd514adf1e>:1: UserWarning: Pandas requires version '1.4.3' or newer of 'xlsxwriter' (version '1.3.7' currently installed).\n",
      "  metadata.to_excel(\"1_METADATA.xlsx\", index = False)\n"
     ]
    }
   ],
   "source": [
    "metadata.to_excel(\"1_METADATA.xlsx\", index = False)"
   ]
  },
  {
   "cell_type": "markdown",
   "metadata": {},
   "source": [
    "#### Descargar PDFs"
   ]
  },
  {
   "cell_type": "code",
   "execution_count": 20,
   "metadata": {},
   "outputs": [],
   "source": [
    "inv = pd.read_excel(\"0_LINKS.xlsx\")"
   ]
  },
  {
   "cell_type": "code",
   "execution_count": 21,
   "metadata": {},
   "outputs": [
    {
     "name": "stderr",
     "output_type": "stream",
     "text": [
      "1it [00:02,  2.83s/it]"
     ]
    },
    {
     "name": "stdout",
     "output_type": "stream",
     "text": [
      "PDF guardado con éxito en: PDFS/35937.pdf\n"
     ]
    },
    {
     "name": "stderr",
     "output_type": "stream",
     "text": [
      "2it [00:12,  4.87s/it]"
     ]
    },
    {
     "name": "stdout",
     "output_type": "stream",
     "text": [
      "PDF guardado con éxito en: PDFS/35976.pdf\n"
     ]
    },
    {
     "name": "stderr",
     "output_type": "stream",
     "text": [
      "3it [00:18,  5.10s/it]"
     ]
    },
    {
     "name": "stdout",
     "output_type": "stream",
     "text": [
      "PDF guardado con éxito en: PDFS/35945.pdf\n"
     ]
    },
    {
     "name": "stderr",
     "output_type": "stream",
     "text": [
      "4it [01:15, 20.68s/it]"
     ]
    },
    {
     "name": "stdout",
     "output_type": "stream",
     "text": [
      "PDF guardado con éxito en: PDFS/35956.pdf\n"
     ]
    },
    {
     "name": "stderr",
     "output_type": "stream",
     "text": [
      "5it [01:26, 17.94s/it]"
     ]
    },
    {
     "name": "stdout",
     "output_type": "stream",
     "text": [
      "PDF guardado con éxito en: PDFS/35960.pdf\n"
     ]
    },
    {
     "name": "stderr",
     "output_type": "stream",
     "text": [
      "6it [01:45, 18.10s/it]"
     ]
    },
    {
     "name": "stdout",
     "output_type": "stream",
     "text": [
      "PDF guardado con éxito en: PDFS/35936.pdf\n"
     ]
    },
    {
     "name": "stderr",
     "output_type": "stream",
     "text": [
      "7it [02:32, 26.90s/it]"
     ]
    },
    {
     "name": "stdout",
     "output_type": "stream",
     "text": [
      "PDF guardado con éxito en: PDFS/35982.pdf\n"
     ]
    },
    {
     "name": "stderr",
     "output_type": "stream",
     "text": [
      "8it [04:04, 46.39s/it]"
     ]
    },
    {
     "name": "stdout",
     "output_type": "stream",
     "text": [
      "PDF guardado con éxito en: PDFS/35991.pdf\n"
     ]
    },
    {
     "name": "stderr",
     "output_type": "stream",
     "text": [
      "9it [04:29, 40.10s/it]"
     ]
    },
    {
     "name": "stdout",
     "output_type": "stream",
     "text": [
      "PDF guardado con éxito en: PDFS/35935.pdf\n"
     ]
    },
    {
     "name": "stderr",
     "output_type": "stream",
     "text": [
      "11it [05:28, 32.65s/it]"
     ]
    },
    {
     "name": "stdout",
     "output_type": "stream",
     "text": [
      "PDF guardado con éxito en: PDFS/36015.pdf\n"
     ]
    }
   ],
   "source": [
    "nod = []\n",
    "\n",
    "for id, link in tq(zip(inv.id[0:], inv.link_pdf[0:])):\n",
    "    try:\n",
    "        descargar_pdf(link, f\"PDFS/{id}.pdf\")\n",
    "    \n",
    "    except:\n",
    "        nod.append(id)"
   ]
  },
  {
   "cell_type": "markdown",
   "metadata": {},
   "source": [
    "#### Leer PDFs"
   ]
  },
  {
   "cell_type": "code",
   "execution_count": 1,
   "metadata": {},
   "outputs": [],
   "source": [
    "import os\n",
    "import fitz  # PyMuPDF\n",
    "import pandas as pd\n",
    "import glob as glob"
   ]
  },
  {
   "cell_type": "code",
   "execution_count": 5,
   "metadata": {},
   "outputs": [
    {
     "name": "stderr",
     "output_type": "stream",
     "text": [
      "  0%|          | 0/730 [00:00<?, ?it/s]"
     ]
    },
    {
     "name": "stderr",
     "output_type": "stream",
     "text": [
      " 16%|█▌        | 115/730 [00:24<01:13,  8.33it/s]mupdf: cannot recognize version marker\n",
      "mupdf: no objects found\n"
     ]
    },
    {
     "name": "stdout",
     "output_type": "stream",
     "text": [
      "Error\n"
     ]
    },
    {
     "name": "stderr",
     "output_type": "stream",
     "text": [
      " 22%|██▏       | 163/730 [00:45<03:29,  2.71it/s]mupdf: cannot recognize version marker\n",
      "mupdf: no objects found\n",
      "mupdf: cannot recognize version marker\n",
      "mupdf: invalid key in dict\n",
      "mupdf: no objects found\n"
     ]
    },
    {
     "name": "stdout",
     "output_type": "stream",
     "text": [
      "Error\n",
      "Error\n"
     ]
    },
    {
     "name": "stderr",
     "output_type": "stream",
     "text": [
      " 24%|██▎       | 172/730 [00:53<08:34,  1.09it/s]mupdf: cannot recognize version marker\n",
      "mupdf: no objects found\n",
      " 24%|██▍       | 174/730 [00:53<06:17,  1.47it/s]"
     ]
    },
    {
     "name": "stdout",
     "output_type": "stream",
     "text": [
      "Error\n"
     ]
    },
    {
     "name": "stderr",
     "output_type": "stream",
     "text": [
      " 25%|██▌       | 183/730 [01:00<06:32,  1.39it/s]mupdf: cannot recognize version marker\n",
      "mupdf: invalid key in dict\n",
      "mupdf: invalid key in dict\n",
      "mupdf: no objects found\n"
     ]
    },
    {
     "name": "stdout",
     "output_type": "stream",
     "text": [
      "Error\n"
     ]
    },
    {
     "name": "stderr",
     "output_type": "stream",
     "text": [
      " 27%|██▋       | 199/730 [01:06<04:47,  1.85it/s]mupdf: cannot recognize version marker\n",
      "mupdf: no objects found\n",
      "mupdf: cannot recognize version marker\n",
      "mupdf: no objects found\n",
      " 28%|██▊       | 203/730 [01:07<02:36,  3.36it/s]"
     ]
    },
    {
     "name": "stdout",
     "output_type": "stream",
     "text": [
      "Error\n",
      "Error\n"
     ]
    },
    {
     "name": "stderr",
     "output_type": "stream",
     "text": [
      " 28%|██▊       | 205/730 [01:07<03:12,  2.73it/s]mupdf: cannot recognize version marker\n",
      "mupdf: no objects found\n",
      " 28%|██▊       | 207/730 [01:08<02:40,  3.26it/s]"
     ]
    },
    {
     "name": "stdout",
     "output_type": "stream",
     "text": [
      "Error\n"
     ]
    },
    {
     "name": "stderr",
     "output_type": "stream",
     "text": [
      " 30%|██▉       | 217/730 [01:12<02:27,  3.49it/s]mupdf: cannot recognize version marker\n",
      "mupdf: no objects found\n",
      " 30%|███       | 219/730 [01:12<01:52,  4.54it/s]mupdf: cannot recognize version marker\n",
      "mupdf: no objects found\n"
     ]
    },
    {
     "name": "stdout",
     "output_type": "stream",
     "text": [
      "Error\n",
      "Error\n"
     ]
    },
    {
     "name": "stderr",
     "output_type": "stream",
     "text": [
      " 30%|███       | 221/730 [01:13<01:35,  5.32it/s]mupdf: cannot recognize version marker\n",
      "mupdf: no objects found\n",
      " 31%|███       | 223/730 [01:13<01:16,  6.60it/s]"
     ]
    },
    {
     "name": "stdout",
     "output_type": "stream",
     "text": [
      "Error\n"
     ]
    },
    {
     "name": "stderr",
     "output_type": "stream",
     "text": [
      " 31%|███       | 226/730 [01:13<01:55,  4.38it/s]mupdf: cannot recognize version marker\n",
      "mupdf: no objects found\n",
      " 31%|███       | 228/730 [01:14<01:36,  5.20it/s]"
     ]
    },
    {
     "name": "stdout",
     "output_type": "stream",
     "text": [
      "Error\n"
     ]
    },
    {
     "name": "stderr",
     "output_type": "stream",
     "text": [
      " 33%|███▎      | 241/730 [01:18<02:17,  3.56it/s]mupdf: cannot recognize version marker\n",
      "mupdf: no objects found\n",
      " 33%|███▎      | 243/730 [01:18<01:55,  4.23it/s]"
     ]
    },
    {
     "name": "stdout",
     "output_type": "stream",
     "text": [
      "Error\n"
     ]
    },
    {
     "name": "stderr",
     "output_type": "stream",
     "text": [
      " 36%|███▌      | 264/730 [01:23<02:00,  3.88it/s]mupdf: cannot recognize version marker\n",
      "mupdf: no objects found\n",
      "mupdf: cannot recognize version marker\n",
      "mupdf: no objects found\n",
      " 37%|███▋      | 267/730 [01:23<01:32,  4.98it/s]"
     ]
    },
    {
     "name": "stdout",
     "output_type": "stream",
     "text": [
      "Error\n",
      "Error\n"
     ]
    },
    {
     "name": "stderr",
     "output_type": "stream",
     "text": [
      " 37%|███▋      | 269/730 [01:24<01:17,  5.94it/s]mupdf: cannot recognize version marker\n",
      "mupdf: no objects found\n",
      "mupdf: cannot recognize version marker\n",
      "mupdf: no objects found\n",
      " 37%|███▋      | 271/730 [01:24<01:01,  7.43it/s]mupdf: cannot recognize version marker\n",
      "mupdf: no objects found\n",
      " 37%|███▋      | 273/730 [01:24<00:59,  7.65it/s]"
     ]
    },
    {
     "name": "stdout",
     "output_type": "stream",
     "text": [
      "Error\n",
      "Error\n",
      "Error\n"
     ]
    },
    {
     "name": "stderr",
     "output_type": "stream",
     "text": [
      "mupdf: cannot recognize version marker\n",
      "mupdf: no objects found\n"
     ]
    },
    {
     "name": "stdout",
     "output_type": "stream",
     "text": [
      "Error\n"
     ]
    },
    {
     "name": "stderr",
     "output_type": "stream",
     "text": [
      " 38%|███▊      | 277/730 [01:25<01:46,  4.25it/s]mupdf: cannot recognize version marker\n",
      "mupdf: no objects found\n",
      " 38%|███▊      | 280/730 [01:25<01:20,  5.56it/s]"
     ]
    },
    {
     "name": "stdout",
     "output_type": "stream",
     "text": [
      "Error\n"
     ]
    },
    {
     "name": "stderr",
     "output_type": "stream",
     "text": [
      " 39%|███▉      | 283/730 [01:26<01:22,  5.44it/s]mupdf: cannot recognize version marker\n",
      "mupdf: no objects found\n",
      "mupdf: cannot recognize version marker\n",
      "mupdf: no objects found\n",
      " 39%|███▉      | 285/730 [01:26<01:04,  6.87it/s]"
     ]
    },
    {
     "name": "stdout",
     "output_type": "stream",
     "text": [
      "Error\n",
      "Error\n"
     ]
    },
    {
     "name": "stderr",
     "output_type": "stream",
     "text": [
      " 41%|████      | 298/730 [01:41<03:13,  2.23it/s]mupdf: cannot recognize version marker\n",
      "mupdf: no objects found\n",
      " 41%|████      | 300/730 [01:42<03:21,  2.13it/s]"
     ]
    },
    {
     "name": "stdout",
     "output_type": "stream",
     "text": [
      "Error\n"
     ]
    },
    {
     "name": "stderr",
     "output_type": "stream",
     "text": [
      " 42%|████▏     | 306/730 [01:45<03:13,  2.19it/s]mupdf: cannot recognize version marker\n",
      "mupdf: no objects found\n",
      "mupdf: cannot recognize version marker\n",
      "mupdf: no objects found\n",
      " 42%|████▏     | 308/730 [01:45<02:22,  2.96it/s]"
     ]
    },
    {
     "name": "stdout",
     "output_type": "stream",
     "text": [
      "Error\n",
      "Error\n"
     ]
    },
    {
     "name": "stderr",
     "output_type": "stream",
     "text": [
      " 48%|████▊     | 347/730 [02:08<03:30,  1.82it/s]mupdf: cannot recognize version marker\n",
      "mupdf: no objects found\n",
      " 48%|████▊     | 349/730 [02:08<02:32,  2.49it/s]"
     ]
    },
    {
     "name": "stdout",
     "output_type": "stream",
     "text": [
      "Error\n"
     ]
    },
    {
     "name": "stderr",
     "output_type": "stream",
     "text": [
      " 54%|█████▍    | 395/730 [02:21<01:14,  4.50it/s]mupdf: cannot find startxref\n",
      " 65%|██████▍   | 472/730 [03:27<03:55,  1.09it/s]mupdf: cannot recognize version marker\n",
      "mupdf: no objects found\n",
      "mupdf: cannot recognize version marker\n",
      "mupdf: no objects found\n",
      " 65%|██████▍   | 474/730 [03:27<02:48,  1.52it/s]"
     ]
    },
    {
     "name": "stdout",
     "output_type": "stream",
     "text": [
      "Error\n",
      "Error\n"
     ]
    },
    {
     "name": "stderr",
     "output_type": "stream",
     "text": [
      " 75%|███████▌  | 551/730 [04:16<02:36,  1.14it/s]mupdf: invalid page object\n",
      " 77%|███████▋  | 561/730 [04:23<03:01,  1.07s/it]mupdf: unknown keyword: '120,000000'\n",
      "mupdf: unknown keyword: '80,000000'\n",
      "mupdf: unknown keyword: '120,000000'\n",
      "mupdf: unknown keyword: '120,000000'\n",
      "mupdf: unknown keyword: '120,000000'\n",
      "mupdf: unknown keyword: '120,000000'\n",
      " 79%|███████▉  | 579/730 [06:53<22:44,  9.03s/it]mupdf: unknown keyword: '110,000000'\n",
      "mupdf: unknown keyword: '89,000000'\n",
      "mupdf: unknown keyword: '118,000000'\n",
      "mupdf: unknown keyword: '110,000000'\n",
      "mupdf: unknown keyword: '120,000000'\n",
      "mupdf: unknown keyword: '120,000000'\n",
      " 81%|████████  | 591/730 [08:08<12:02,  5.20s/it]mupdf: unknown keyword: '120,000000'\n",
      "mupdf: unknown keyword: '80,000000'\n",
      "mupdf: unknown keyword: '120,000000'\n",
      "mupdf: unknown keyword: '120,000000'\n",
      "mupdf: unknown keyword: '120,000000'\n",
      "mupdf: unknown keyword: '120,000000'\n",
      " 95%|█████████▍| 693/730 [09:44<00:27,  1.35it/s]mupdf: cannot recognize version marker\n",
      "mupdf: no objects found\n",
      " 95%|█████████▌| 694/730 [09:45<00:19,  1.81it/s]"
     ]
    },
    {
     "name": "stdout",
     "output_type": "stream",
     "text": [
      "Error\n"
     ]
    },
    {
     "name": "stderr",
     "output_type": "stream",
     "text": [
      " 98%|█████████▊| 713/730 [09:55<00:07,  2.24it/s]mupdf: cannot recognize version marker\n",
      "mupdf: no objects found\n"
     ]
    },
    {
     "name": "stdout",
     "output_type": "stream",
     "text": [
      "Error\n"
     ]
    },
    {
     "name": "stderr",
     "output_type": "stream",
     "text": [
      " 99%|█████████▉| 723/730 [10:01<00:05,  1.39it/s]mupdf: cannot recognize version marker\n",
      "mupdf: no objects found\n"
     ]
    },
    {
     "name": "stdout",
     "output_type": "stream",
     "text": [
      "Error\n"
     ]
    },
    {
     "name": "stderr",
     "output_type": "stream",
     "text": [
      "100%|██████████| 730/730 [10:07<00:00,  1.20it/s]"
     ]
    },
    {
     "name": "stdout",
     "output_type": "stream",
     "text": [
      "        id                                          contenido\n",
      "0    31147   \\n \\n \\n \\n \\n \\nHolcim \\n \\nInstituto de Inv...\n",
      "1    31152  1 \\n \\n \\n \\n \\nCONVENIO DE ASOCIACIÓN  08-307...\n",
      "2    31157  1 \\n \\nValoración económica de los servicios h...\n",
      "3    31158   \\n \\nINFORME FINAL \\n \\nDOCUMENTO EN REVISION...\n",
      "4    31159  HORMIGAS \\nGUSTAVO PEREZ \\n \\n \\nINTRODUCCIÓN ...\n",
      "..     ...                                                ...\n",
      "694   9846   \\n \\n \\n1 \\nMEMORIAS INTERCAMBIO DE EXPERIENC...\n",
      "695   9847   \\n \\n \\nMEMORIAS TALLER DE HERRAMIENTAS DE MA...\n",
      "696   9848   \\n \\nCOMPENSACIONES AMBIENTALES EN COLOMBIA \\...\n",
      "697   9852   \\n \\n1 \\nAnálisis comparativo sobre compensac...\n",
      "698   9875  PLAN DE ACCIÓN REGIONAL EN BIODIVERSIDAD DE LA...\n",
      "\n",
      "[699 rows x 2 columns]\n"
     ]
    },
    {
     "name": "stderr",
     "output_type": "stream",
     "text": [
      "\n"
     ]
    }
   ],
   "source": [
    "# Ruta a la carpeta que contiene los archivos PDF\n",
    "ruta_carpeta = 'PDFS/*.pdf'\n",
    "archivos = glob.glob(ruta_carpeta)\n",
    "datos = []\n",
    "\n",
    "\n",
    "# Usa glob.glob para encontrar todos los archivos PDF en la carpeta\n",
    "for ruta_archivo in tq(archivos):\n",
    "\n",
    "    try:\n",
    "        # Abre el archivo PDF\n",
    "        with fitz.open(ruta_archivo) as doc:\n",
    "            texto = \"\"\n",
    "            # Recorre cada página del PDF y extrae el texto\n",
    "            for pagina in doc:\n",
    "                texto += pagina.get_text()\n",
    "        \n",
    "        # Extrae el nombre del archivo sin la ruta y sin la extensión .pdf\n",
    "        nombre_archivo_sin_ext = os.path.basename(ruta_archivo)[:-4]\n",
    "        \n",
    "        # Añade el nombre y el contenido a la lista\n",
    "        datos.append({\"id\": nombre_archivo_sin_ext, \"contenido\": texto})\n",
    "\n",
    "    except:\n",
    "        print(\"Error\")\n",
    "\n",
    "# Crea un DataFrame con los datos recopilados\n",
    "texto = pd.DataFrame(datos)\n",
    "\n"
   ]
  },
  {
   "cell_type": "code",
   "execution_count": 15,
   "metadata": {},
   "outputs": [
    {
     "name": "stderr",
     "output_type": "stream",
     "text": [
      "<ipython-input-15-864f80fd42c8>:1: UserWarning: Pandas requires version '1.4.3' or newer of 'xlsxwriter' (version '1.3.7' currently installed).\n",
      "  texto.to_excel(\"2_TEXTO.xlsx\", index = False)\n"
     ]
    }
   ],
   "source": [
    "texto.to_excel(\"2_TEXTO.xlsx\", index = False)"
   ]
  },
  {
   "cell_type": "markdown",
   "metadata": {},
   "source": [
    "### Organizar bases"
   ]
  },
  {
   "cell_type": "code",
   "execution_count": 38,
   "metadata": {},
   "outputs": [],
   "source": [
    "inv = pd.read_excel(\"0_LINKS.xlsx\")\n",
    "metadata = pd.read_excel(\"1_METADATA.xlsx\")\n",
    "texto = pd.read_excel(\"2_TEXTO.xlsx\")"
   ]
  },
  {
   "cell_type": "code",
   "execution_count": 3,
   "metadata": {},
   "outputs": [],
   "source": [
    "# columns_meta = list(metadata.columns)\n",
    "# columns_meta.sort()"
   ]
  },
  {
   "cell_type": "code",
   "execution_count": 4,
   "metadata": {},
   "outputs": [],
   "source": [
    "dbf = inv.merge(metadata, \"left\", \"id\").merge(texto, \"left\", \"id\")"
   ]
  },
  {
   "cell_type": "code",
   "execution_count": 5,
   "metadata": {},
   "outputs": [],
   "source": [
    "columns_meta = list(metadata.columns)\n",
    "columns_meta.sort()"
   ]
  },
  {
   "cell_type": "code",
   "execution_count": 6,
   "metadata": {},
   "outputs": [],
   "source": [
    "import pandas as pd\n",
    "\n",
    "def combinarc(df, nombre_base):\n",
    "    # Encuentra todas las columnas que comienzan con el nombre base\n",
    "    columnas = [col for col in df.columns if col.startswith(nombre_base)]\n",
    "    columnas.sort(key=lambda x: '' if x == nombre_base else x)\n",
    "    \n",
    "    # Inicializa la nueva columna con listas vacías\n",
    "    df[nombre_base + '_list'] = [[] for _ in range(len(df))]\n",
    "    \n",
    "    # Itera sobre cada fila y cada columna relacionada para agregar los valores a la lista\n",
    "    for index, row in df.iterrows():\n",
    "        lista_valores = []\n",
    "        for col in columnas:\n",
    "            if pd.notnull(row[col]):\n",
    "                lista_valores.append(row[col])\n",
    "        df.at[index, nombre_base + '_list'] = lista_valores\n",
    "    \n",
    "    # Elimina las columnas originales excepto la columna base\n",
    "    columnas_a_eliminar = [col for col in columnas if col != nombre_base]\n",
    "    df.drop(columns=columnas_a_eliminar, inplace=True)\n",
    "    \n",
    "    return df\n",
    "\n",
    "# Asumiendo que 'dbff' es tu DataFrame\n",
    "# Ejemplo de uso:\n",
    "# dbff = combinarc(dbff, 'dc.creator')"
   ]
  },
  {
   "cell_type": "code",
   "execution_count": 10,
   "metadata": {},
   "outputs": [
    {
     "name": "stderr",
     "output_type": "stream",
     "text": [
      "<ipython-input-10-5d9f1261f89e>:1: UserWarning: Pandas requires version '1.4.3' or newer of 'xlsxwriter' (version '1.3.7' currently installed).\n",
      "  dbf.to_excel(\"4_DBF_LONG.xlsx\", index = False)\n"
     ]
    }
   ],
   "source": [
    "dbf.to_excel(\"4_DBF_LONG.xlsx\", index = False)"
   ]
  },
  {
   "cell_type": "code",
   "execution_count": 13,
   "metadata": {},
   "outputs": [],
   "source": [
    "dbff = dbf.copy()"
   ]
  },
  {
   "cell_type": "code",
   "execution_count": 14,
   "metadata": {},
   "outputs": [],
   "source": [
    "repetidas = ['dc.creator', 'dc.description.abstract', 'dc.description.programa', 'dc.subject', 'dc.title', 'dc.type.spa', ]\n",
    "for variable in repetidas:\n",
    "    dbff = combinarc(dbff, variable)"
   ]
  },
  {
   "cell_type": "code",
   "execution_count": 17,
   "metadata": {},
   "outputs": [
    {
     "name": "stderr",
     "output_type": "stream",
     "text": [
      "<ipython-input-17-1a774c981b16>:1: UserWarning: Pandas requires version '1.4.3' or newer of 'xlsxwriter' (version '1.3.7' currently installed).\n",
      "  dbff.to_excel(\"5_DBF_SHORT.xlsx\", index = False)\n"
     ]
    }
   ],
   "source": [
    "dbff.to_excel(\"5_DBF_SHORT.xlsx\", index = False)"
   ]
  },
  {
   "cell_type": "code",
   "execution_count": 18,
   "metadata": {},
   "outputs": [
    {
     "data": {
      "text/html": [
       "<div>\n",
       "<style scoped>\n",
       "    .dataframe tbody tr th:only-of-type {\n",
       "        vertical-align: middle;\n",
       "    }\n",
       "\n",
       "    .dataframe tbody tr th {\n",
       "        vertical-align: top;\n",
       "    }\n",
       "\n",
       "    .dataframe thead th {\n",
       "        text-align: right;\n",
       "    }\n",
       "</style>\n",
       "<table border=\"1\" class=\"dataframe\">\n",
       "  <thead>\n",
       "    <tr style=\"text-align: right;\">\n",
       "      <th></th>\n",
       "      <th>id</th>\n",
       "      <th>link</th>\n",
       "      <th>link_pdf</th>\n",
       "      <th>dc.date.issued</th>\n",
       "      <th>dc.identifier.uri</th>\n",
       "      <th>dc.description.abstract</th>\n",
       "      <th>dc.language.iso</th>\n",
       "      <th>dc.subject</th>\n",
       "      <th>dc.title</th>\n",
       "      <th>dc.description.ciudad</th>\n",
       "      <th>...</th>\n",
       "      <th>dc.description.programa</th>\n",
       "      <th>dc.creator</th>\n",
       "      <th>dc.identifier.uri_1</th>\n",
       "      <th>contenido</th>\n",
       "      <th>dc.creator_list</th>\n",
       "      <th>dc.description.abstract_list</th>\n",
       "      <th>dc.description.programa_list</th>\n",
       "      <th>dc.subject_list</th>\n",
       "      <th>dc.title_list</th>\n",
       "      <th>dc.type.spa_list</th>\n",
       "    </tr>\n",
       "  </thead>\n",
       "  <tbody>\n",
       "    <tr>\n",
       "      <th>0</th>\n",
       "      <td>35144</td>\n",
       "      <td>http://repository.humboldt.org.co/handle/20.50...</td>\n",
       "      <td>http://repository.humboldt.org.co/bitstream/ha...</td>\n",
       "      <td>2005-08</td>\n",
       "      <td>http://hdl.handle.net/20.500.11761/35144</td>\n",
       "      <td>En el presente informe se describen las activi...</td>\n",
       "      <td>NaN</td>\n",
       "      <td>Aves</td>\n",
       "      <td>Inventario y monitoreo participativo de las av...</td>\n",
       "      <td>Bogotá</td>\n",
       "      <td>...</td>\n",
       "      <td>Proyecto andes</td>\n",
       "      <td>Ochoa Quintero, Jose Manuel</td>\n",
       "      <td>NaN</td>\n",
       "      <td>INVENTARIO Y MONITOREO PARTICIPATIVO DE LAS AV...</td>\n",
       "      <td>[Ochoa Quintero, Jose Manuel, Melo Vasquez, Is...</td>\n",
       "      <td>[En el presente informe se describen las activ...</td>\n",
       "      <td>[Proyecto andes]</td>\n",
       "      <td>[Aves, Censo poblacional, Inventario]</td>\n",
       "      <td>[Inventario y monitoreo participativo de las a...</td>\n",
       "      <td>[]</td>\n",
       "    </tr>\n",
       "    <tr>\n",
       "      <th>1</th>\n",
       "      <td>32572</td>\n",
       "      <td>http://repository.humboldt.org.co/handle/20.50...</td>\n",
       "      <td>http://repository.humboldt.org.co/bitstream/ha...</td>\n",
       "      <td>2006-04</td>\n",
       "      <td>http://hdl.handle.net/20.500.11761/32572</td>\n",
       "      <td>Este trabajo de caracterización general sobre ...</td>\n",
       "      <td>spa</td>\n",
       "      <td>Bejucos</td>\n",
       "      <td>Caracterización del uso de bejucos en tres zon...</td>\n",
       "      <td>Bogotá</td>\n",
       "      <td>...</td>\n",
       "      <td>Proyecto Andes</td>\n",
       "      <td>Martínez Bedoya, Yerly Andrés</td>\n",
       "      <td>NaN</td>\n",
       "      <td>INSTITUTO DE INVESTIGACION DE RECURSOS BIOLOGI...</td>\n",
       "      <td>[Martínez Bedoya, Yerly Andrés, Alvarez Rodas,...</td>\n",
       "      <td>[Este trabajo de caracterización general sobre...</td>\n",
       "      <td>[Proyecto Andes]</td>\n",
       "      <td>[Bejucos, usos, Artesanos, sostenibilidad]</td>\n",
       "      <td>[Caracterización del uso de bejucos en tres zo...</td>\n",
       "      <td>[]</td>\n",
       "    </tr>\n",
       "    <tr>\n",
       "      <th>2</th>\n",
       "      <td>9317</td>\n",
       "      <td>http://repository.humboldt.org.co/handle/20.50...</td>\n",
       "      <td>http://repository.humboldt.org.co/bitstream/ha...</td>\n",
       "      <td>2007-12-28</td>\n",
       "      <td>http://hdl.handle.net/20.500.11761/9317</td>\n",
       "      <td>La caracterización local de la vegetación repr...</td>\n",
       "      <td>spa</td>\n",
       "      <td>Flora</td>\n",
       "      <td>Caracterización florística en diferentes cober...</td>\n",
       "      <td>(Bogotá, Colombia)</td>\n",
       "      <td>...</td>\n",
       "      <td>Paisajes Rurales</td>\n",
       "      <td>Méndez, Enrique</td>\n",
       "      <td>NaN</td>\n",
       "      <td>CARACTERIZACIÓN FLORÍSTICA EN DIFERENTES \\nCOB...</td>\n",
       "      <td>[Méndez, Enrique]</td>\n",
       "      <td>[La caracterización local de la vegetación rep...</td>\n",
       "      <td>[Paisajes Rurales]</td>\n",
       "      <td>[Flora, Vegetación, reserva forestal, Conserva...</td>\n",
       "      <td>[Caracterización florística en diferentes cobe...</td>\n",
       "      <td>[informe]</td>\n",
       "    </tr>\n",
       "    <tr>\n",
       "      <th>3</th>\n",
       "      <td>9714</td>\n",
       "      <td>http://repository.humboldt.org.co/handle/20.50...</td>\n",
       "      <td>http://repository.humboldt.org.co/bitstream/ha...</td>\n",
       "      <td>2006</td>\n",
       "      <td>http://hdl.handle.net/20.500.11761/9714</td>\n",
       "      <td>Al inicio del desarrollo de este documento, la...</td>\n",
       "      <td>spa</td>\n",
       "      <td>Recursos genéticos</td>\n",
       "      <td>Acuerdos contractuales de acceso a recursos ge...</td>\n",
       "      <td>Bogotá</td>\n",
       "      <td>...</td>\n",
       "      <td>Política y legislación</td>\n",
       "      <td>Vélez Llinas, Juliana</td>\n",
       "      <td>NaN</td>\n",
       "      <td>NaN</td>\n",
       "      <td>[Vélez Llinas, Juliana]</td>\n",
       "      <td>[Al inicio del desarrollo de este documento, l...</td>\n",
       "      <td>[Política y legislación]</td>\n",
       "      <td>[Recursos genéticos, productos derivados, prop...</td>\n",
       "      <td>[Acuerdos contractuales de acceso a recursos g...</td>\n",
       "      <td>[informe]</td>\n",
       "    </tr>\n",
       "    <tr>\n",
       "      <th>4</th>\n",
       "      <td>34986</td>\n",
       "      <td>http://repository.humboldt.org.co/handle/20.50...</td>\n",
       "      <td>http://repository.humboldt.org.co/bitstream/ha...</td>\n",
       "      <td>2006-02</td>\n",
       "      <td>http://hdl.handle.net/20.500.11761/34986</td>\n",
       "      <td>Las áreas de Importancia para la conservación ...</td>\n",
       "      <td>spa</td>\n",
       "      <td>Avifauna</td>\n",
       "      <td>Conservación de la avifauna en el Aica la pata...</td>\n",
       "      <td>Armenia</td>\n",
       "      <td>...</td>\n",
       "      <td>Proyecto Andes</td>\n",
       "      <td>NaN</td>\n",
       "      <td>NaN</td>\n",
       "      <td>... . , ... , . \\n\" . \\n:;:;�j¡;!�lúAvJ�a.:�j�...</td>\n",
       "      <td>[]</td>\n",
       "      <td>[Las áreas de Importancia para la conservación...</td>\n",
       "      <td>[Proyecto Andes]</td>\n",
       "      <td>[Avifauna, Habitat, Especies migratorias, Educ...</td>\n",
       "      <td>[Conservación de la avifauna en el Aica la pat...</td>\n",
       "      <td>[]</td>\n",
       "    </tr>\n",
       "    <tr>\n",
       "      <th>...</th>\n",
       "      <td>...</td>\n",
       "      <td>...</td>\n",
       "      <td>...</td>\n",
       "      <td>...</td>\n",
       "      <td>...</td>\n",
       "      <td>...</td>\n",
       "      <td>...</td>\n",
       "      <td>...</td>\n",
       "      <td>...</td>\n",
       "      <td>...</td>\n",
       "      <td>...</td>\n",
       "      <td>...</td>\n",
       "      <td>...</td>\n",
       "      <td>...</td>\n",
       "      <td>...</td>\n",
       "      <td>...</td>\n",
       "      <td>...</td>\n",
       "      <td>...</td>\n",
       "      <td>...</td>\n",
       "      <td>...</td>\n",
       "      <td>...</td>\n",
       "    </tr>\n",
       "    <tr>\n",
       "      <th>738</th>\n",
       "      <td>36153</td>\n",
       "      <td>http://repository.humboldt.org.co/handle/20.50...</td>\n",
       "      <td>http://repository.humboldt.org.co/bitstream/ha...</td>\n",
       "      <td>2023</td>\n",
       "      <td>http://hdl.handle.net/20.500.11761/36153</td>\n",
       "      <td>Ante la contingencia presentada por el afloram...</td>\n",
       "      <td>spa</td>\n",
       "      <td>Evaluación del impacto ambiental</td>\n",
       "      <td>Entregable 2.5. Informe parcial con los result...</td>\n",
       "      <td>Bogotá D.C.</td>\n",
       "      <td>...</td>\n",
       "      <td>NaN</td>\n",
       "      <td>Díaz Gómez, Diana Lucía</td>\n",
       "      <td>NaN</td>\n",
       "      <td>\\n1 \\n \\n \\n \\n \\n \\n \\nCONTRATO DE PRESTACIÓ...</td>\n",
       "      <td>[Díaz Gómez, Diana Lucía, Valdivieso Camacho, ...</td>\n",
       "      <td>[Ante la contingencia presentada por el aflora...</td>\n",
       "      <td>[]</td>\n",
       "      <td>[Evaluación del impacto ambiental, Monitoreo d...</td>\n",
       "      <td>[Entregable 2.5. Informe parcial con los resul...</td>\n",
       "      <td>[informe]</td>\n",
       "    </tr>\n",
       "    <tr>\n",
       "      <th>739</th>\n",
       "      <td>36274</td>\n",
       "      <td>http://repository.humboldt.org.co/handle/20.50...</td>\n",
       "      <td>http://repository.humboldt.org.co/bitstream/ha...</td>\n",
       "      <td>2023</td>\n",
       "      <td>http://hdl.handle.net/20.500.11761/36274</td>\n",
       "      <td>Con el fin de aportar a la consolidación del S...</td>\n",
       "      <td>NaN</td>\n",
       "      <td>Conflictos socioambientales</td>\n",
       "      <td>I2.1.6. Informe de avance que evidencie el apo...</td>\n",
       "      <td>Bogotá D.C.</td>\n",
       "      <td>...</td>\n",
       "      <td>NaN</td>\n",
       "      <td>Rodríguez Murcia, Camilo Eduardo</td>\n",
       "      <td>NaN</td>\n",
       "      <td>INFORME NARRATIVO 2023\\nI2.1.6. Informe de ava...</td>\n",
       "      <td>[Rodríguez Murcia, Camilo Eduardo, García Porr...</td>\n",
       "      <td>[Con el fin de aportar a la consolidación del ...</td>\n",
       "      <td>[]</td>\n",
       "      <td>[Conflictos socioambientales, Cartografía, Atl...</td>\n",
       "      <td>[I2.1.6. Informe de avance que evidencie el ap...</td>\n",
       "      <td>[]</td>\n",
       "    </tr>\n",
       "    <tr>\n",
       "      <th>740</th>\n",
       "      <td>36265</td>\n",
       "      <td>http://repository.humboldt.org.co/handle/20.50...</td>\n",
       "      <td>http://repository.humboldt.org.co/bitstream/ha...</td>\n",
       "      <td>2023</td>\n",
       "      <td>http://hdl.handle.net/20.500.11761/36265</td>\n",
       "      <td>El Centro de Colecciones y Gestión de Especies...</td>\n",
       "      <td>NaN</td>\n",
       "      <td>Divulgación científica</td>\n",
       "      <td>Informe de gestión para la divulgación científ...</td>\n",
       "      <td>Bogotá D.C.</td>\n",
       "      <td>...</td>\n",
       "      <td>NaN</td>\n",
       "      <td>Borja Acosta, Kevin Giancarlo</td>\n",
       "      <td>NaN</td>\n",
       "      <td>INFORME NARRATIVO 2023\\nINFORME DE GESTIÓN PAR...</td>\n",
       "      <td>[Borja Acosta, Kevin Giancarlo, Galeano Muñoz,...</td>\n",
       "      <td>[El Centro de Colecciones y Gestión de Especie...</td>\n",
       "      <td>[]</td>\n",
       "      <td>[Divulgación científica, Ciencia y sociedad, T...</td>\n",
       "      <td>[Informe de gestión para la divulgación cientí...</td>\n",
       "      <td>[]</td>\n",
       "    </tr>\n",
       "    <tr>\n",
       "      <th>741</th>\n",
       "      <td>36258</td>\n",
       "      <td>http://repository.humboldt.org.co/handle/20.50...</td>\n",
       "      <td>http://repository.humboldt.org.co/bitstream/ha...</td>\n",
       "      <td>2023-12-29</td>\n",
       "      <td>http://hdl.handle.net/20.500.11761/36258</td>\n",
       "      <td>El Registro Único Nacional de Colecciones (RNC...</td>\n",
       "      <td>spa</td>\n",
       "      <td>Colecciones biológicas</td>\n",
       "      <td>Informe de la gestión para el registro, actual...</td>\n",
       "      <td>Bogotá, Colombia</td>\n",
       "      <td>...</td>\n",
       "      <td>Gerencia de Información Científica/Registro Ún...</td>\n",
       "      <td>Salazar Gómez, Erika Nathalia</td>\n",
       "      <td>NaN</td>\n",
       "      <td>\\nINFORME NARRATIVO 2023 \\n1 \\n2023I2.1.5GIC6...</td>\n",
       "      <td>[Salazar Gómez, Erika Nathalia, Olaya Rodrígue...</td>\n",
       "      <td>[El Registro Único Nacional de Colecciones (RN...</td>\n",
       "      <td>[Gerencia de Información Científica/Registro Ú...</td>\n",
       "      <td>[Colecciones biológicas, Recursos biológicos, ...</td>\n",
       "      <td>[Informe de la gestión para el registro, actua...</td>\n",
       "      <td>[]</td>\n",
       "    </tr>\n",
       "    <tr>\n",
       "      <th>742</th>\n",
       "      <td>36263</td>\n",
       "      <td>http://repository.humboldt.org.co/handle/20.50...</td>\n",
       "      <td>http://repository.humboldt.org.co/bitstream/ha...</td>\n",
       "      <td>2023</td>\n",
       "      <td>http://hdl.handle.net/20.500.11761/36263</td>\n",
       "      <td>Este documento es una revisión y reflexión del...</td>\n",
       "      <td>NaN</td>\n",
       "      <td>Tecnología adecuada</td>\n",
       "      <td>I1.1.2. Documento con el diseño y la adaptació...</td>\n",
       "      <td>Bogotá D.C.</td>\n",
       "      <td>...</td>\n",
       "      <td>NaN</td>\n",
       "      <td>Corzo Mora, German Arturo</td>\n",
       "      <td>NaN</td>\n",
       "      <td>INFORME NARRATIVO 2023\\nI1.1.2. DOCUMENTO CON ...</td>\n",
       "      <td>[Corzo Mora, German Arturo, Medina Uribe, Clau...</td>\n",
       "      <td>[Este documento es una revisión y reflexión de...</td>\n",
       "      <td>[]</td>\n",
       "      <td>[Tecnología adecuada, Sectores productivos, Ca...</td>\n",
       "      <td>[I1.1.2. Documento con el diseño y la adaptaci...</td>\n",
       "      <td>[]</td>\n",
       "    </tr>\n",
       "  </tbody>\n",
       "</table>\n",
       "<p>743 rows × 21 columns</p>\n",
       "</div>"
      ],
      "text/plain": [
       "        id                                               link  \\\n",
       "0    35144  http://repository.humboldt.org.co/handle/20.50...   \n",
       "1    32572  http://repository.humboldt.org.co/handle/20.50...   \n",
       "2     9317  http://repository.humboldt.org.co/handle/20.50...   \n",
       "3     9714  http://repository.humboldt.org.co/handle/20.50...   \n",
       "4    34986  http://repository.humboldt.org.co/handle/20.50...   \n",
       "..     ...                                                ...   \n",
       "738  36153  http://repository.humboldt.org.co/handle/20.50...   \n",
       "739  36274  http://repository.humboldt.org.co/handle/20.50...   \n",
       "740  36265  http://repository.humboldt.org.co/handle/20.50...   \n",
       "741  36258  http://repository.humboldt.org.co/handle/20.50...   \n",
       "742  36263  http://repository.humboldt.org.co/handle/20.50...   \n",
       "\n",
       "                                              link_pdf dc.date.issued  \\\n",
       "0    http://repository.humboldt.org.co/bitstream/ha...        2005-08   \n",
       "1    http://repository.humboldt.org.co/bitstream/ha...        2006-04   \n",
       "2    http://repository.humboldt.org.co/bitstream/ha...     2007-12-28   \n",
       "3    http://repository.humboldt.org.co/bitstream/ha...           2006   \n",
       "4    http://repository.humboldt.org.co/bitstream/ha...        2006-02   \n",
       "..                                                 ...            ...   \n",
       "738  http://repository.humboldt.org.co/bitstream/ha...           2023   \n",
       "739  http://repository.humboldt.org.co/bitstream/ha...           2023   \n",
       "740  http://repository.humboldt.org.co/bitstream/ha...           2023   \n",
       "741  http://repository.humboldt.org.co/bitstream/ha...     2023-12-29   \n",
       "742  http://repository.humboldt.org.co/bitstream/ha...           2023   \n",
       "\n",
       "                            dc.identifier.uri  \\\n",
       "0    http://hdl.handle.net/20.500.11761/35144   \n",
       "1    http://hdl.handle.net/20.500.11761/32572   \n",
       "2     http://hdl.handle.net/20.500.11761/9317   \n",
       "3     http://hdl.handle.net/20.500.11761/9714   \n",
       "4    http://hdl.handle.net/20.500.11761/34986   \n",
       "..                                        ...   \n",
       "738  http://hdl.handle.net/20.500.11761/36153   \n",
       "739  http://hdl.handle.net/20.500.11761/36274   \n",
       "740  http://hdl.handle.net/20.500.11761/36265   \n",
       "741  http://hdl.handle.net/20.500.11761/36258   \n",
       "742  http://hdl.handle.net/20.500.11761/36263   \n",
       "\n",
       "                               dc.description.abstract dc.language.iso  \\\n",
       "0    En el presente informe se describen las activi...             NaN   \n",
       "1    Este trabajo de caracterización general sobre ...             spa   \n",
       "2    La caracterización local de la vegetación repr...             spa   \n",
       "3    Al inicio del desarrollo de este documento, la...             spa   \n",
       "4    Las áreas de Importancia para la conservación ...             spa   \n",
       "..                                                 ...             ...   \n",
       "738  Ante la contingencia presentada por el afloram...             spa   \n",
       "739  Con el fin de aportar a la consolidación del S...             NaN   \n",
       "740  El Centro de Colecciones y Gestión de Especies...             NaN   \n",
       "741  El Registro Único Nacional de Colecciones (RNC...             spa   \n",
       "742  Este documento es una revisión y reflexión del...             NaN   \n",
       "\n",
       "                           dc.subject  \\\n",
       "0                                Aves   \n",
       "1                             Bejucos   \n",
       "2                               Flora   \n",
       "3                  Recursos genéticos   \n",
       "4                            Avifauna   \n",
       "..                                ...   \n",
       "738  Evaluación del impacto ambiental   \n",
       "739       Conflictos socioambientales   \n",
       "740            Divulgación científica   \n",
       "741            Colecciones biológicas   \n",
       "742               Tecnología adecuada   \n",
       "\n",
       "                                              dc.title dc.description.ciudad  \\\n",
       "0    Inventario y monitoreo participativo de las av...                Bogotá   \n",
       "1    Caracterización del uso de bejucos en tres zon...                Bogotá   \n",
       "2    Caracterización florística en diferentes cober...    (Bogotá, Colombia)   \n",
       "3    Acuerdos contractuales de acceso a recursos ge...                Bogotá   \n",
       "4    Conservación de la avifauna en el Aica la pata...               Armenia   \n",
       "..                                                 ...                   ...   \n",
       "738  Entregable 2.5. Informe parcial con los result...           Bogotá D.C.   \n",
       "739  I2.1.6. Informe de avance que evidencie el apo...           Bogotá D.C.   \n",
       "740  Informe de gestión para la divulgación científ...           Bogotá D.C.   \n",
       "741  Informe de la gestión para el registro, actual...      Bogotá, Colombia   \n",
       "742  I1.1.2. Documento con el diseño y la adaptació...           Bogotá D.C.   \n",
       "\n",
       "     ...                            dc.description.programa  \\\n",
       "0    ...                                     Proyecto andes   \n",
       "1    ...                                     Proyecto Andes   \n",
       "2    ...                                   Paisajes Rurales   \n",
       "3    ...                             Política y legislación   \n",
       "4    ...                                     Proyecto Andes   \n",
       "..   ...                                                ...   \n",
       "738  ...                                                NaN   \n",
       "739  ...                                                NaN   \n",
       "740  ...                                                NaN   \n",
       "741  ...  Gerencia de Información Científica/Registro Ún...   \n",
       "742  ...                                                NaN   \n",
       "\n",
       "                           dc.creator dc.identifier.uri_1  \\\n",
       "0         Ochoa Quintero, Jose Manuel                 NaN   \n",
       "1       Martínez Bedoya, Yerly Andrés                 NaN   \n",
       "2                     Méndez, Enrique                 NaN   \n",
       "3               Vélez Llinas, Juliana                 NaN   \n",
       "4                                 NaN                 NaN   \n",
       "..                                ...                 ...   \n",
       "738           Díaz Gómez, Diana Lucía                 NaN   \n",
       "739  Rodríguez Murcia, Camilo Eduardo                 NaN   \n",
       "740     Borja Acosta, Kevin Giancarlo                 NaN   \n",
       "741     Salazar Gómez, Erika Nathalia                 NaN   \n",
       "742         Corzo Mora, German Arturo                 NaN   \n",
       "\n",
       "                                             contenido  \\\n",
       "0    INVENTARIO Y MONITOREO PARTICIPATIVO DE LAS AV...   \n",
       "1    INSTITUTO DE INVESTIGACION DE RECURSOS BIOLOGI...   \n",
       "2    CARACTERIZACIÓN FLORÍSTICA EN DIFERENTES \\nCOB...   \n",
       "3                                                  NaN   \n",
       "4    ... . , ... , . \\n\" . \\n:;:;�j¡;!�lúAvJ�a.:�j�...   \n",
       "..                                                 ...   \n",
       "738   \\n1 \\n \\n \\n \\n \\n \\n \\nCONTRATO DE PRESTACIÓ...   \n",
       "739  INFORME NARRATIVO 2023\\nI2.1.6. Informe de ava...   \n",
       "740  INFORME NARRATIVO 2023\\nINFORME DE GESTIÓN PAR...   \n",
       "741   \\nINFORME NARRATIVO 2023 \\n1 \\n2023I2.1.5GIC6...   \n",
       "742  INFORME NARRATIVO 2023\\nI1.1.2. DOCUMENTO CON ...   \n",
       "\n",
       "                                       dc.creator_list  \\\n",
       "0    [Ochoa Quintero, Jose Manuel, Melo Vasquez, Is...   \n",
       "1    [Martínez Bedoya, Yerly Andrés, Alvarez Rodas,...   \n",
       "2                                    [Méndez, Enrique]   \n",
       "3                              [Vélez Llinas, Juliana]   \n",
       "4                                                   []   \n",
       "..                                                 ...   \n",
       "738  [Díaz Gómez, Diana Lucía, Valdivieso Camacho, ...   \n",
       "739  [Rodríguez Murcia, Camilo Eduardo, García Porr...   \n",
       "740  [Borja Acosta, Kevin Giancarlo, Galeano Muñoz,...   \n",
       "741  [Salazar Gómez, Erika Nathalia, Olaya Rodrígue...   \n",
       "742  [Corzo Mora, German Arturo, Medina Uribe, Clau...   \n",
       "\n",
       "                          dc.description.abstract_list  \\\n",
       "0    [En el presente informe se describen las activ...   \n",
       "1    [Este trabajo de caracterización general sobre...   \n",
       "2    [La caracterización local de la vegetación rep...   \n",
       "3    [Al inicio del desarrollo de este documento, l...   \n",
       "4    [Las áreas de Importancia para la conservación...   \n",
       "..                                                 ...   \n",
       "738  [Ante la contingencia presentada por el aflora...   \n",
       "739  [Con el fin de aportar a la consolidación del ...   \n",
       "740  [El Centro de Colecciones y Gestión de Especie...   \n",
       "741  [El Registro Único Nacional de Colecciones (RN...   \n",
       "742  [Este documento es una revisión y reflexión de...   \n",
       "\n",
       "                          dc.description.programa_list  \\\n",
       "0                                     [Proyecto andes]   \n",
       "1                                     [Proyecto Andes]   \n",
       "2                                   [Paisajes Rurales]   \n",
       "3                             [Política y legislación]   \n",
       "4                                     [Proyecto Andes]   \n",
       "..                                                 ...   \n",
       "738                                                 []   \n",
       "739                                                 []   \n",
       "740                                                 []   \n",
       "741  [Gerencia de Información Científica/Registro Ú...   \n",
       "742                                                 []   \n",
       "\n",
       "                                       dc.subject_list  \\\n",
       "0                [Aves, Censo poblacional, Inventario]   \n",
       "1           [Bejucos, usos, Artesanos, sostenibilidad]   \n",
       "2    [Flora, Vegetación, reserva forestal, Conserva...   \n",
       "3    [Recursos genéticos, productos derivados, prop...   \n",
       "4    [Avifauna, Habitat, Especies migratorias, Educ...   \n",
       "..                                                 ...   \n",
       "738  [Evaluación del impacto ambiental, Monitoreo d...   \n",
       "739  [Conflictos socioambientales, Cartografía, Atl...   \n",
       "740  [Divulgación científica, Ciencia y sociedad, T...   \n",
       "741  [Colecciones biológicas, Recursos biológicos, ...   \n",
       "742  [Tecnología adecuada, Sectores productivos, Ca...   \n",
       "\n",
       "                                         dc.title_list dc.type.spa_list  \n",
       "0    [Inventario y monitoreo participativo de las a...               []  \n",
       "1    [Caracterización del uso de bejucos en tres zo...               []  \n",
       "2    [Caracterización florística en diferentes cobe...        [informe]  \n",
       "3    [Acuerdos contractuales de acceso a recursos g...        [informe]  \n",
       "4    [Conservación de la avifauna en el Aica la pat...               []  \n",
       "..                                                 ...              ...  \n",
       "738  [Entregable 2.5. Informe parcial con los resul...        [informe]  \n",
       "739  [I2.1.6. Informe de avance que evidencie el ap...               []  \n",
       "740  [Informe de gestión para la divulgación cientí...               []  \n",
       "741  [Informe de la gestión para el registro, actua...               []  \n",
       "742  [I1.1.2. Documento con el diseño y la adaptaci...               []  \n",
       "\n",
       "[743 rows x 21 columns]"
      ]
     },
     "execution_count": 18,
     "metadata": {},
     "output_type": "execute_result"
    }
   ],
   "source": [
    "dbff"
   ]
  },
  {
   "cell_type": "code",
   "execution_count": null,
   "metadata": {},
   "outputs": [],
   "source": []
  }
 ],
 "metadata": {
  "kernelspec": {
   "display_name": "base",
   "language": "python",
   "name": "python3"
  },
  "language_info": {
   "codemirror_mode": {
    "name": "ipython",
    "version": 3
   },
   "file_extension": ".py",
   "mimetype": "text/x-python",
   "name": "python",
   "nbconvert_exporter": "python",
   "pygments_lexer": "ipython3",
   "version": "3.8.5"
  }
 },
 "nbformat": 4,
 "nbformat_minor": 2
}
