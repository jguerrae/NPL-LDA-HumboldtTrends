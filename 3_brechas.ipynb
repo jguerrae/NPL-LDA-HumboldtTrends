{
 "cells": [
  {
   "cell_type": "code",
   "execution_count": 46,
   "metadata": {},
   "outputs": [],
   "source": [
    "import pandas as pd\n",
    "import re\n",
    "import numpy as np"
   ]
  },
  {
   "cell_type": "code",
   "execution_count": 47,
   "metadata": {},
   "outputs": [],
   "source": [
    "with open('texto_total.txt', 'r', encoding='utf-8') as file:\n",
    "    texto = file.read() "
   ]
  },
  {
   "cell_type": "code",
   "execution_count": 48,
   "metadata": {},
   "outputs": [],
   "source": [
    "df = pd.read_excel(\"6_TENDENCIAS.xlsx\", sheet_name=\"DICCIONARIO\")"
   ]
  },
  {
   "cell_type": "code",
   "execution_count": 49,
   "metadata": {},
   "outputs": [],
   "source": [
    "import ast\n",
    "\n",
    "def string_to_list(list_string):\n",
    "    try:\n",
    "        # This safely evaluates a string as a Python literal (if it's a list format)\n",
    "        return ast.literal_eval(list_string)\n",
    "    except ValueError:\n",
    "        # In case of error, return an empty list\n",
    "        return []\n",
    "\n",
    "# Convert the 'lista' and 'lema' columns to actual lists\n",
    "df['lista'] = df['lista'].apply(string_to_list)\n",
    "df['lema'] = df['lema'].apply(string_to_list)"
   ]
  },
  {
   "cell_type": "code",
   "execution_count": 50,
   "metadata": {},
   "outputs": [],
   "source": [
    "def count_occurrences(term_list):\n",
    "    return [texto.count(term) for term in term_list]\n",
    "\n",
    "# Apply the count_occurrences function to the 'lista' column and create a new column with the results\n",
    "df['lista_counts'] = df['lista'].apply(count_occurrences)\n",
    "\n"
   ]
  },
  {
   "cell_type": "code",
   "execution_count": 51,
   "metadata": {},
   "outputs": [],
   "source": [
    "df['lema_counts'] = df['lema'].apply(count_occurrences)"
   ]
  },
  {
   "cell_type": "code",
   "execution_count": 52,
   "metadata": {},
   "outputs": [],
   "source": [
    "for i in [\"lista_counts\", \"lema_counts\"]:\n",
    "    nombre = i.split(\"_\")[0]\n",
    "    for k in [0.25, 0.5, 0.75]:\n",
    "        df[f\"{nombre}_{k*100}\"] = df[i].apply(lambda x:  np.percentile(x, k*100))\n",
    "    \n",
    "    df[f\"{nombre}_media\"] = df[i].apply(lambda x: np.mean(x))\n",
    "    df[f\"{nombre}_max\"] = df[i].apply(lambda x:  max(x))\n"
   ]
  },
  {
   "cell_type": "code",
   "execution_count": 53,
   "metadata": {},
   "outputs": [
    {
     "name": "stderr",
     "output_type": "stream",
     "text": [
      "<ipython-input-53-9a03de79e305>:1: UserWarning: Pandas requires version '1.4.3' or newer of 'xlsxwriter' (version '1.3.7' currently installed).\n",
      "  df.to_excel(\"7_BRECHAS_RESULTS.xlsx\", index = False)\n"
     ]
    }
   ],
   "source": [
    "df.to_excel(\"7_BRECHAS_RESULTS.xlsx\", index = False)"
   ]
  },
  {
   "cell_type": "code",
   "execution_count": null,
   "metadata": {},
   "outputs": [],
   "source": []
  }
 ],
 "metadata": {
  "kernelspec": {
   "display_name": "base",
   "language": "python",
   "name": "python3"
  },
  "language_info": {
   "codemirror_mode": {
    "name": "ipython",
    "version": 3
   },
   "file_extension": ".py",
   "mimetype": "text/x-python",
   "name": "python",
   "nbconvert_exporter": "python",
   "pygments_lexer": "ipython3",
   "version": "3.8.5"
  }
 },
 "nbformat": 4,
 "nbformat_minor": 2
}
